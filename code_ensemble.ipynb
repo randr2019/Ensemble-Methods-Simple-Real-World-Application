{
 "cells": [
  {
   "cell_type": "markdown",
   "metadata": {},
   "source": [
    "# Ensemble Methods\n",
    "In this lecture we learnt three types of ensemble methods:\n",
    "- Bagging or Bootstrap aggregation\n",
    "- Random Forest\n",
    "- Boosting"
   ]
  },
  {
   "cell_type": "code",
   "execution_count": 88,
   "metadata": {},
   "outputs": [],
   "source": [
    "import matplotlib.pyplot as plt\n",
    "import numpy as np\n",
    "import pandas as pd\n",
    "%matplotlib inline"
   ]
  },
  {
   "cell_type": "markdown",
   "metadata": {},
   "source": [
    "## Solving a classification problem using ensemble methods"
   ]
  },
  {
   "cell_type": "markdown",
   "metadata": {},
   "source": [
    "### Read Data file for Highway Crash "
   ]
  },
  {
   "cell_type": "code",
   "execution_count": 163,
   "metadata": {},
   "outputs": [],
   "source": [
    "infile = \"C:\\Graduate Courses\\Course_material_updates\\Decision_Tree\\Traffic_crash_data.csv\""
   ]
  },
  {
   "cell_type": "code",
   "execution_count": 164,
   "metadata": {},
   "outputs": [
    {
     "data": {
      "text/html": [
       "<div>\n",
       "<style scoped>\n",
       "    .dataframe tbody tr th:only-of-type {\n",
       "        vertical-align: middle;\n",
       "    }\n",
       "\n",
       "    .dataframe tbody tr th {\n",
       "        vertical-align: top;\n",
       "    }\n",
       "\n",
       "    .dataframe thead th {\n",
       "        text-align: right;\n",
       "    }\n",
       "</style>\n",
       "<table border=\"1\" class=\"dataframe\">\n",
       "  <thead>\n",
       "    <tr style=\"text-align: right;\">\n",
       "      <th></th>\n",
       "      <th>cvs_x</th>\n",
       "      <th>cvs_x1</th>\n",
       "      <th>cvs_y</th>\n",
       "      <th>cvs_y1</th>\n",
       "      <th>crash</th>\n",
       "      <th>day</th>\n",
       "      <th>hour</th>\n",
       "      <th>date</th>\n",
       "      <th>oc_x</th>\n",
       "      <th>oc_x1</th>\n",
       "      <th>...</th>\n",
       "      <th>sd_sp_y1</th>\n",
       "      <th>sd_vl_x</th>\n",
       "      <th>sd_vl_x1</th>\n",
       "      <th>sd_vl_y</th>\n",
       "      <th>sd_vl_y1</th>\n",
       "      <th>vl_x</th>\n",
       "      <th>vl_x1</th>\n",
       "      <th>vl_y</th>\n",
       "      <th>vl_y1</th>\n",
       "      <th>Evc</th>\n",
       "    </tr>\n",
       "  </thead>\n",
       "  <tbody>\n",
       "    <tr>\n",
       "      <th>0</th>\n",
       "      <td>0.070935</td>\n",
       "      <td>0.040367</td>\n",
       "      <td>0.056472</td>\n",
       "      <td>0.061572</td>\n",
       "      <td>1</td>\n",
       "      <td>1</td>\n",
       "      <td>16</td>\n",
       "      <td>8/1/2017 16:45</td>\n",
       "      <td>5.777778</td>\n",
       "      <td>5.755556</td>\n",
       "      <td>...</td>\n",
       "      <td>4.508872</td>\n",
       "      <td>3.541590</td>\n",
       "      <td>4.035556</td>\n",
       "      <td>4.641428</td>\n",
       "      <td>3.090693</td>\n",
       "      <td>159</td>\n",
       "      <td>150</td>\n",
       "      <td>174</td>\n",
       "      <td>143</td>\n",
       "      <td>0</td>\n",
       "    </tr>\n",
       "    <tr>\n",
       "      <th>1</th>\n",
       "      <td>0.049876</td>\n",
       "      <td>0.038167</td>\n",
       "      <td>0.056857</td>\n",
       "      <td>0.047196</td>\n",
       "      <td>0</td>\n",
       "      <td>1</td>\n",
       "      <td>16</td>\n",
       "      <td>8/8/2017 16:50</td>\n",
       "      <td>6.111111</td>\n",
       "      <td>8.022222</td>\n",
       "      <td>...</td>\n",
       "      <td>3.176509</td>\n",
       "      <td>3.817254</td>\n",
       "      <td>3.542934</td>\n",
       "      <td>3.598942</td>\n",
       "      <td>5.503246</td>\n",
       "      <td>165</td>\n",
       "      <td>173</td>\n",
       "      <td>185</td>\n",
       "      <td>165</td>\n",
       "      <td>0</td>\n",
       "    </tr>\n",
       "    <tr>\n",
       "      <th>2</th>\n",
       "      <td>0.051110</td>\n",
       "      <td>0.040697</td>\n",
       "      <td>0.047022</td>\n",
       "      <td>0.070983</td>\n",
       "      <td>0</td>\n",
       "      <td>1</td>\n",
       "      <td>16</td>\n",
       "      <td>8/1/2017 16:15</td>\n",
       "      <td>5.777778</td>\n",
       "      <td>6.333333</td>\n",
       "      <td>...</td>\n",
       "      <td>4.431617</td>\n",
       "      <td>3.468223</td>\n",
       "      <td>3.181793</td>\n",
       "      <td>4.287301</td>\n",
       "      <td>4.208834</td>\n",
       "      <td>138</td>\n",
       "      <td>137</td>\n",
       "      <td>155</td>\n",
       "      <td>150</td>\n",
       "      <td>0</td>\n",
       "    </tr>\n",
       "    <tr>\n",
       "      <th>3</th>\n",
       "      <td>0.055062</td>\n",
       "      <td>0.050744</td>\n",
       "      <td>0.068446</td>\n",
       "      <td>0.056914</td>\n",
       "      <td>0</td>\n",
       "      <td>1</td>\n",
       "      <td>16</td>\n",
       "      <td>8/1/2017 16:25</td>\n",
       "      <td>3.488889</td>\n",
       "      <td>4.488889</td>\n",
       "      <td>...</td>\n",
       "      <td>3.730124</td>\n",
       "      <td>2.956832</td>\n",
       "      <td>3.829708</td>\n",
       "      <td>3.925497</td>\n",
       "      <td>4.084815</td>\n",
       "      <td>87</td>\n",
       "      <td>100</td>\n",
       "      <td>112</td>\n",
       "      <td>114</td>\n",
       "      <td>0</td>\n",
       "    </tr>\n",
       "    <tr>\n",
       "      <th>4</th>\n",
       "      <td>0.061557</td>\n",
       "      <td>0.049912</td>\n",
       "      <td>0.069027</td>\n",
       "      <td>0.117209</td>\n",
       "      <td>0</td>\n",
       "      <td>1</td>\n",
       "      <td>16</td>\n",
       "      <td>8/29/2017 16:30</td>\n",
       "      <td>3.288889</td>\n",
       "      <td>4.422222</td>\n",
       "      <td>...</td>\n",
       "      <td>7.265629</td>\n",
       "      <td>2.548576</td>\n",
       "      <td>2.474633</td>\n",
       "      <td>1.914854</td>\n",
       "      <td>2.426049</td>\n",
       "      <td>86</td>\n",
       "      <td>98</td>\n",
       "      <td>100</td>\n",
       "      <td>102</td>\n",
       "      <td>0</td>\n",
       "    </tr>\n",
       "  </tbody>\n",
       "</table>\n",
       "<p>5 rows × 33 columns</p>\n",
       "</div>"
      ],
      "text/plain": [
       "      cvs_x    cvs_x1     cvs_y    cvs_y1  crash  day  hour             date  \\\n",
       "0  0.070935  0.040367  0.056472  0.061572      1    1    16   8/1/2017 16:45   \n",
       "1  0.049876  0.038167  0.056857  0.047196      0    1    16   8/8/2017 16:50   \n",
       "2  0.051110  0.040697  0.047022  0.070983      0    1    16   8/1/2017 16:15   \n",
       "3  0.055062  0.050744  0.068446  0.056914      0    1    16   8/1/2017 16:25   \n",
       "4  0.061557  0.049912  0.069027  0.117209      0    1    16  8/29/2017 16:30   \n",
       "\n",
       "       oc_x     oc_x1  ...  sd_sp_y1   sd_vl_x  sd_vl_x1   sd_vl_y  sd_vl_y1  \\\n",
       "0  5.777778  5.755556  ...  4.508872  3.541590  4.035556  4.641428  3.090693   \n",
       "1  6.111111  8.022222  ...  3.176509  3.817254  3.542934  3.598942  5.503246   \n",
       "2  5.777778  6.333333  ...  4.431617  3.468223  3.181793  4.287301  4.208834   \n",
       "3  3.488889  4.488889  ...  3.730124  2.956832  3.829708  3.925497  4.084815   \n",
       "4  3.288889  4.422222  ...  7.265629  2.548576  2.474633  1.914854  2.426049   \n",
       "\n",
       "   vl_x  vl_x1  vl_y  vl_y1  Evc  \n",
       "0   159    150   174    143    0  \n",
       "1   165    173   185    165    0  \n",
       "2   138    137   155    150    0  \n",
       "3    87    100   112    114    0  \n",
       "4    86     98   100    102    0  \n",
       "\n",
       "[5 rows x 33 columns]"
      ]
     },
     "execution_count": 164,
     "metadata": {},
     "output_type": "execute_result"
    }
   ],
   "source": [
    "df=pd.read_csv(infile)\n",
    "df.head()"
   ]
  },
  {
   "cell_type": "markdown",
   "metadata": {},
   "source": [
    "## Data Preparation "
   ]
  },
  {
   "cell_type": "markdown",
   "metadata": {},
   "source": [
    "#### Defining target variable"
   ]
  },
  {
   "cell_type": "code",
   "execution_count": 165,
   "metadata": {},
   "outputs": [],
   "source": [
    "y=np.array(df.crash)"
   ]
  },
  {
   "cell_type": "markdown",
   "metadata": {},
   "source": [
    "#### Drop uneccesary columns"
   ]
  },
  {
   "cell_type": "code",
   "execution_count": 166,
   "metadata": {},
   "outputs": [],
   "source": [
    "df.drop(['crash'],1,inplace=True)\n",
    "df.drop(['date'],1,inplace=True)"
   ]
  },
  {
   "cell_type": "markdown",
   "metadata": {},
   "source": [
    "#### Defining input features"
   ]
  },
  {
   "cell_type": "code",
   "execution_count": 167,
   "metadata": {},
   "outputs": [],
   "source": [
    "X=df.values"
   ]
  },
  {
   "cell_type": "code",
   "execution_count": 168,
   "metadata": {},
   "outputs": [
    {
     "data": {
      "text/plain": [
       "array([[7.09350240e-02, 4.03671230e-02, 5.64724350e-02, ...,\n",
       "        1.74000000e+02, 1.43000000e+02, 0.00000000e+00],\n",
       "       [4.98764960e-02, 3.81670650e-02, 5.68569090e-02, ...,\n",
       "        1.85000000e+02, 1.65000000e+02, 0.00000000e+00],\n",
       "       [5.11102090e-02, 4.06971850e-02, 4.70223490e-02, ...,\n",
       "        1.55000000e+02, 1.50000000e+02, 0.00000000e+00],\n",
       "       ...,\n",
       "       [3.30356580e-02, 9.23028000e-02, 4.25788360e-02, ...,\n",
       "        3.32000000e+02, 3.64000000e+02, 1.00000000e+00],\n",
       "       [4.58487860e-02, 1.90136578e-01, 2.91842150e-02, ...,\n",
       "        2.08000000e+02, 2.07000000e+02, 1.00000000e+00],\n",
       "       [8.40179760e-02, 1.79000522e-01, 1.09121049e-01, ...,\n",
       "        8.30000000e+01, 7.70000000e+01, 1.00000000e+00]])"
      ]
     },
     "execution_count": 168,
     "metadata": {},
     "output_type": "execute_result"
    }
   ],
   "source": [
    "X"
   ]
  },
  {
   "cell_type": "markdown",
   "metadata": {},
   "source": [
    "#### Splitting the dataset into train and test set"
   ]
  },
  {
   "cell_type": "code",
   "execution_count": 169,
   "metadata": {},
   "outputs": [],
   "source": [
    "from sklearn.model_selection import train_test_split\n",
    "X_train, X_test, y_train, y_test = train_test_split(\n",
    "   X,y, random_state=66)"
   ]
  },
  {
   "cell_type": "markdown",
   "metadata": {},
   "source": [
    "## Single Decision Tree"
   ]
  },
  {
   "cell_type": "code",
   "execution_count": 170,
   "metadata": {},
   "outputs": [
    {
     "name": "stdout",
     "output_type": "stream",
     "text": [
      "Accuracy on training set: 1.000\n",
      "Accuracy on test set: 0.738\n"
     ]
    }
   ],
   "source": [
    "from sklearn.tree import DecisionTreeClassifier\n",
    "\n",
    "tree = DecisionTreeClassifier(random_state=6608)\n",
    "tree.fit(X_train, y_train)\n",
    "print(\"Accuracy on training set: {:.3f}\".format(tree.score(X_train, y_train)))\n",
    "print(\"Accuracy on test set: {:.3f}\".format(tree.score(X_test, y_test)))"
   ]
  },
  {
   "cell_type": "markdown",
   "metadata": {},
   "source": [
    "## Bagging"
   ]
  },
  {
   "cell_type": "code",
   "execution_count": 171,
   "metadata": {},
   "outputs": [
    {
     "data": {
      "text/plain": [
       "BaggingClassifier(base_estimator=None, bootstrap=True, bootstrap_features=False,\n",
       "                  max_features=1.0, max_samples=1.0, n_estimators=100,\n",
       "                  n_jobs=None, oob_score=False, random_state=6608, verbose=0,\n",
       "                  warm_start=False)"
      ]
     },
     "execution_count": 171,
     "metadata": {},
     "output_type": "execute_result"
    }
   ],
   "source": [
    "from sklearn.ensemble import BaggingClassifier\n",
    "\n",
    "bagging = BaggingClassifier(n_estimators=100, random_state=6608)\n",
    "bagging.fit(X_train, y_train)"
   ]
  },
  {
   "cell_type": "code",
   "execution_count": 172,
   "metadata": {},
   "outputs": [
    {
     "name": "stdout",
     "output_type": "stream",
     "text": [
      "Accuracy on training set: 1.000\n",
      "Accuracy on test set: 0.893\n"
     ]
    }
   ],
   "source": [
    "print(\"Accuracy on training set: {:.3f}\".format(bagging.score(X_train, y_train)))\n",
    "print(\"Accuracy on test set: {:.3f}\".format(bagging.score(X_test, y_test)))"
   ]
  },
  {
   "cell_type": "code",
   "execution_count": 173,
   "metadata": {},
   "outputs": [
    {
     "data": {
      "text/plain": [
       "BaggingClassifier(base_estimator=KNeighborsClassifier(algorithm='auto',\n",
       "                                                      leaf_size=30,\n",
       "                                                      metric='minkowski',\n",
       "                                                      metric_params=None,\n",
       "                                                      n_jobs=None,\n",
       "                                                      n_neighbors=5, p=2,\n",
       "                                                      weights='uniform'),\n",
       "                  bootstrap=True, bootstrap_features=False, max_features=1.0,\n",
       "                  max_samples=1.0, n_estimators=100, n_jobs=None,\n",
       "                  oob_score=False, random_state=6608, verbose=0,\n",
       "                  warm_start=False)"
      ]
     },
     "execution_count": 173,
     "metadata": {},
     "output_type": "execute_result"
    }
   ],
   "source": [
    "from sklearn.neighbors import KNeighborsClassifier\n",
    "\n",
    "knn_bagging = BaggingClassifier(KNeighborsClassifier(), n_estimators=100, random_state=6608)\n",
    "knn_bagging.fit(X_train, y_train)"
   ]
  },
  {
   "cell_type": "code",
   "execution_count": 174,
   "metadata": {},
   "outputs": [
    {
     "name": "stdout",
     "output_type": "stream",
     "text": [
      "Accuracy on training set: 0.821\n",
      "Accuracy on test set: 0.888\n"
     ]
    }
   ],
   "source": [
    "print(\"Accuracy on training set: {:.3f}\".format(knn_bagging.score(X_train, y_train)))\n",
    "print(\"Accuracy on test set: {:.3f}\".format(knn_bagging.score(X_test, y_test)))"
   ]
  },
  {
   "cell_type": "markdown",
   "metadata": {},
   "source": [
    "## Random Forest"
   ]
  },
  {
   "cell_type": "code",
   "execution_count": 175,
   "metadata": {},
   "outputs": [
    {
     "data": {
      "text/plain": [
       "RandomForestClassifier(bootstrap=True, ccp_alpha=0.0, class_weight=None,\n",
       "                       criterion='gini', max_depth=None, max_features='auto',\n",
       "                       max_leaf_nodes=None, max_samples=None,\n",
       "                       min_impurity_decrease=0.0, min_impurity_split=None,\n",
       "                       min_samples_leaf=1, min_samples_split=2,\n",
       "                       min_weight_fraction_leaf=0.0, n_estimators=100,\n",
       "                       n_jobs=None, oob_score=False, random_state=6608,\n",
       "                       verbose=0, warm_start=False)"
      ]
     },
     "execution_count": 175,
     "metadata": {},
     "output_type": "execute_result"
    }
   ],
   "source": [
    "from sklearn.ensemble import RandomForestClassifier\n",
    "\n",
    "forest = RandomForestClassifier(n_estimators=100, random_state=6608)\n",
    "forest.fit(X_train, y_train)"
   ]
  },
  {
   "cell_type": "code",
   "execution_count": 176,
   "metadata": {},
   "outputs": [
    {
     "name": "stdout",
     "output_type": "stream",
     "text": [
      "Accuracy on training set: 1.000\n",
      "Accuracy on test set: 0.888\n"
     ]
    }
   ],
   "source": [
    "print(\"Accuracy on training set: {:.3f}\".format(forest.score(X_train, y_train)))\n",
    "print(\"Accuracy on test set: {:.3f}\".format(forest.score(X_test, y_test)))"
   ]
  },
  {
   "cell_type": "markdown",
   "metadata": {},
   "source": [
    "## Boosting"
   ]
  },
  {
   "cell_type": "code",
   "execution_count": 177,
   "metadata": {},
   "outputs": [
    {
     "data": {
      "text/plain": [
       "AdaBoostClassifier(algorithm='SAMME.R', base_estimator=None, learning_rate=1.0,\n",
       "                   n_estimators=200, random_state=6608)"
      ]
     },
     "execution_count": 177,
     "metadata": {},
     "output_type": "execute_result"
    }
   ],
   "source": [
    "from sklearn.ensemble import AdaBoostClassifier\n",
    "\n",
    "abc = AdaBoostClassifier(n_estimators=200, random_state=6608)\n",
    "abc.fit(X_train, y_train)"
   ]
  },
  {
   "cell_type": "code",
   "execution_count": 178,
   "metadata": {},
   "outputs": [
    {
     "name": "stdout",
     "output_type": "stream",
     "text": [
      "Accuracy on training set: 0.971\n",
      "Accuracy on test set: 0.811\n"
     ]
    }
   ],
   "source": [
    "print(\"Accuracy on training set: {:.3f}\".format(abc.score(X_train, y_train)))\n",
    "print(\"Accuracy on test set: {:.3f}\".format(abc.score(X_test, y_test)))"
   ]
  },
  {
   "cell_type": "markdown",
   "metadata": {},
   "source": [
    "#### Plotting model accuracy for different number of estimators"
   ]
  },
  {
   "cell_type": "code",
   "execution_count": 179,
   "metadata": {},
   "outputs": [
    {
     "data": {
      "image/png": "[encoded data removed]",
      "text/plain": [
       "<Figure size 720x576 with 1 Axes>"
      ]
     },
     "metadata": {
      "needs_background": "light"
     },
     "output_type": "display_data"
    }
   ],
   "source": [
    "from sklearn.metrics import zero_one_loss\n",
    "n_estimators = 200\n",
    "\n",
    "fig,ax = plt.subplots(figsize=(10,8))\n",
    "\n",
    "## iteratively calculating model error on train data\n",
    "\n",
    "abc_err_train = np.zeros((n_estimators,))\n",
    "for i, y_pred in enumerate(abc.staged_predict(X_train)):\n",
    "    abc_err_train[i] = zero_one_loss(y_pred, y_train)\n",
    "\n",
    "## iteratively calculating model error on test data\n",
    "\n",
    "abc_err_test = np.zeros((n_estimators,))\n",
    "for i, y_pred in enumerate(abc.staged_predict(X_test)):\n",
    "    abc_err_test[i] = zero_one_loss(y_pred, y_test)\n",
    "\n",
    "## plots \n",
    "\n",
    "ax.plot(np.arange(n_estimators) + 1, abc_err_train,\n",
    "        label='AdaBoost Train Error',\n",
    "        color='blue')\n",
    "\n",
    "ax.plot(np.arange(n_estimators) + 1, abc_err_test,\n",
    "        label='AdaBoost Test Error',\n",
    "        color='red')\n",
    "\n",
    "#ax.set_ylim((0.0, 0.1))\n",
    "ax.set_xlabel('n_estimators')\n",
    "ax.set_ylabel('error rate')\n",
    "\n",
    "leg = ax.legend(loc='lower left', fancybox=True)"
   ]
  }
 ],
 "metadata": {
  "kernelspec": {
   "display_name": "Python 3",
   "language": "python",
   "name": "python3"
  },
  "language_info": {
   "codemirror_mode": {
    "name": "ipython",
    "version": 3
   },
   "file_extension": ".py",
   "mimetype": "text/x-python",
   "name": "python",
   "nbconvert_exporter": "python",
   "pygments_lexer": "ipython3",
   "version": "3.7.0"
  }
 },
 "nbformat": 4,
 "nbformat_minor": 2
}
